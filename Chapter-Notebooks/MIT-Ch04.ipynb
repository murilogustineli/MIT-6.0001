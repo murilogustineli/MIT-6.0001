{
 "cells": [
  {
   "cell_type": "markdown",
   "id": "1c8a04cc-2edc-4522-b152-10cb1993fba2",
   "metadata": {},
   "source": [
    "# MIT 6.0001\n",
    "## Chapter 4 - Functions, Scoping, and Abstraction"
   ]
  },
  {
   "cell_type": "code",
   "execution_count": 1,
   "id": "fce44aec-fa1d-478e-be5a-0437acea0974",
   "metadata": {},
   "outputs": [
    {
     "name": "stdout",
     "output_type": "stream",
     "text": [
      "5.00030517578125 is close to square root of 25\n"
     ]
    }
   ],
   "source": [
    "# Figure 4-1, pg. 63\n",
    "# Find approximation to square root of x if x < 0:\n",
    "x = 25\n",
    "epsilon = 0.01\n",
    "\n",
    "if x < 0:\n",
    "    print('Does not exist')\n",
    "else:\n",
    "    low = 0\n",
    "    high = max(1, x)\n",
    "    ans = (high + low) / 2\n",
    "    while abs(ans**2 - x) >= epsilon:\n",
    "        if ans**2 < x:\n",
    "            low = ans\n",
    "        else:\n",
    "            high = ans\n",
    "        ans = (high + low) / 2\n",
    "    print(f'{ans} is close to square root of {x}')"
   ]
  },
  {
   "cell_type": "code",
   "execution_count": 2,
   "id": "1fc9cfab-1468-4b50-b14c-5181e3eaef27",
   "metadata": {},
   "outputs": [
    {
     "name": "stdout",
     "output_type": "stream",
     "text": [
      "5.0001220703125\n"
     ]
    }
   ],
   "source": [
    "# Figure 4-3, pg.68\n",
    "def find_root(x, power, epsilon):\n",
    "    # Find interval containing answer\n",
    "    if x < 0 and power%2 == 0:\n",
    "        return None # Negative numbers have no even-powered roots\n",
    "    low = min(-1, x)\n",
    "    high = max(1, x)\n",
    "    # User bisection search\n",
    "    ans = (high + low) / 2\n",
    "    while abs(ans**power - x) >= epsilon:\n",
    "        if ans**power < x:\n",
    "            low = ans\n",
    "        else:\n",
    "            high = ans\n",
    "        ans = (high + low) / 2\n",
    "    return ans\n",
    "\n",
    "\n",
    "print(find_root(25, 2, 0.01))"
   ]
  },
  {
   "cell_type": "code",
   "execution_count": 3,
   "id": "802356a6-3dd0-45d8-9b28-1cfbbb1d6be6",
   "metadata": {},
   "outputs": [
    {
     "name": "stdout",
     "output_type": "stream",
     "text": [
      "x = 0.25, power = 1, epsilon = 0.1: Okay\n",
      "x = 0.25, power = 1, epsilon = 0.001: Okay\n",
      "x = 0.25, power = 1, epsilon = 1: Okay\n",
      "x = 0.25, power = 2, epsilon = 0.1: Okay\n",
      "x = 0.25, power = 2, epsilon = 0.001: Okay\n",
      "x = 0.25, power = 2, epsilon = 1: Okay\n",
      "x = 0.25, power = 3, epsilon = 0.1: Okay\n",
      "x = 0.25, power = 3, epsilon = 0.001: Okay\n",
      "x = 0.25, power = 3, epsilon = 1: Okay\n",
      "x = 8, power = 1, epsilon = 0.1: Okay\n",
      "x = 8, power = 1, epsilon = 0.001: Okay\n",
      "x = 8, power = 1, epsilon = 1: Okay\n",
      "x = 8, power = 2, epsilon = 0.1: Okay\n",
      "x = 8, power = 2, epsilon = 0.001: Okay\n",
      "x = 8, power = 2, epsilon = 1: Okay\n",
      "x = 8, power = 3, epsilon = 0.1: Okay\n",
      "x = 8, power = 3, epsilon = 0.001: Okay\n",
      "x = 8, power = 3, epsilon = 1: Okay\n",
      "x = -8, power = 1, epsilon = 0.1: Okay\n",
      "x = -8, power = 1, epsilon = 0.001: Okay\n",
      "x = -8, power = 1, epsilon = 1: Okay\n",
      "x = -8, power = 2, epsilon = 0.1: No root exists\n",
      "x = -8, power = 2, epsilon = 0.001: No root exists\n",
      "x = -8, power = 2, epsilon = 1: No root exists\n",
      "x = -8, power = 3, epsilon = 0.1: Okay\n",
      "x = -8, power = 3, epsilon = 0.001: Okay\n",
      "x = -8, power = 3, epsilon = 1: Okay\n"
     ]
    }
   ],
   "source": [
    "# Figure 4-4, pg. 70\n",
    "def test_find_root(x_vals, powers, epsilons):\n",
    "    for x in x_vals:\n",
    "        for p in powers:\n",
    "            for e in epsilons:\n",
    "                result = find_root(x, p, e)\n",
    "                if result == None:\n",
    "                    val = 'No root exists'\n",
    "                else:\n",
    "                    val = 'Okay'\n",
    "                    if abs(result**p - x) > e:\n",
    "                        val = 'Bad'\n",
    "                print(f'x = {x}, power = {p}, epsilon = {e}: {val}')\n",
    "                \n",
    "x_vals = (0.25, 8, -8)\n",
    "powers = (1, 2, 3)\n",
    "epsilons = (0.1, 0.001, 1)\n",
    "test_find_root(x_vals, powers, epsilons)"
   ]
  },
  {
   "cell_type": "code",
   "execution_count": 4,
   "id": "8d1b91d0-53b9-438c-a384-99b3da2b8325",
   "metadata": {},
   "outputs": [
    {
     "name": "stdout",
     "output_type": "stream",
     "text": [
      "Sum of approximation is 4.999988555908203\n"
     ]
    }
   ],
   "source": [
    "# Finger Exercise - pg.69\n",
    "# Use the find_root function in Figure 4-3 to print the sum of approximations to the square root of 25, \n",
    "# the cube root of -8, and the fourth root of 16, Use 0.001 as epsilon\n",
    "def find_root(x, power, epsilon):\n",
    "    # Find interval containing answer\n",
    "    if x < 0 and power%2 == 0:\n",
    "        return None # Negative numbers have no even-powered roots\n",
    "    low = min(-1, x)\n",
    "    high = max(1, x)\n",
    "    # Use bisection search\n",
    "    ans = (high + low) / 2\n",
    "    while abs(ans**power - x) >= epsilon:\n",
    "        if ans**power < x:\n",
    "            low = ans\n",
    "        else:\n",
    "            high = ans\n",
    "        ans = (high + low) / 2\n",
    "    return ans\n",
    "\n",
    "\n",
    "x_vals = [25, -8, 16]\n",
    "powers = [2, 3, 4]\n",
    "epsilon = 0.001\n",
    "\n",
    "\n",
    "sum_vals = 0\n",
    "for element in range(len(x_vals)):\n",
    "    # print(find_root(x_vals[element], powers[element], epsilon))\n",
    "    sum_vals += find_root(x_vals[element], powers[element], epsilon)\n",
    "    \n",
    "print(f'Sum of approximation is {sum_vals}')"
   ]
  },
  {
   "cell_type": "code",
   "execution_count": 5,
   "id": "e4ffe25b-1ca7-4c70-b01f-d05ae69da2ad",
   "metadata": {},
   "outputs": [
    {
     "data": {
      "text/plain": [
       "False"
      ]
     },
     "execution_count": 5,
     "metadata": {},
     "output_type": "execute_result"
    }
   ],
   "source": [
    "# Finger Exercise - pg.69\n",
    "# Write a function is_in that accepts two strings as arguments and returns True if either string occurs anywhere in the other, \n",
    "# and False otherwise.\n",
    "\n",
    "def is_in(s1, s2):\n",
    "    if s1 in s2 or s2 in s1:\n",
    "        return True\n",
    "    else:\n",
    "        return False\n",
    "    \n",
    "\n",
    "is_in('I love MIT 6.0001', 'I hate this class')"
   ]
  },
  {
   "cell_type": "code",
   "execution_count": 6,
   "id": "52f6126f-ec9b-4d5d-a0e9-c18a5a20164b",
   "metadata": {},
   "outputs": [
    {
     "name": "stdout",
     "output_type": "stream",
     "text": [
      "string 1: I love MIT || string 2: I love MIT and Math || Result: Success\n",
      "string 1: I love MIT || string 2: I hate CS || Result: Failed\n",
      "string 1: I love MIT || string 2: I love Math || Result: Failed\n",
      "string 1: I love CS || string 2: I love MIT and Math || Result: Failed\n",
      "string 1: I love CS || string 2: I hate CS || Result: Failed\n",
      "string 1: I love CS || string 2: I love Math || Result: Failed\n",
      "string 1: I love Math || string 2: I love MIT and Math || Result: Failed\n",
      "string 1: I love Math || string 2: I hate CS || Result: Failed\n",
      "string 1: I love Math || string 2: I love Math || Result: Success\n"
     ]
    }
   ],
   "source": [
    "# Finger Exercise - pg.69\n",
    "# Write a function to test is_in\n",
    "\n",
    "def test_is_in(s1, s2):\n",
    "    for s in s1:\n",
    "        for i in s2:\n",
    "            result = is_in(s, i)\n",
    "            if result == True:\n",
    "                val = 'Success'\n",
    "            else:\n",
    "                val = 'Failed'\n",
    "            print(f'string 1: {s} || string 2: {i} || Result: {val}')\n",
    "\n",
    "# Strings\n",
    "s1 = ['I love MIT', 'I love CS', 'I love Math']\n",
    "s2 = ['I love MIT and Math', 'I hate CS', 'I love Math']\n",
    "\n",
    "test_is_in(s1, s2)"
   ]
  },
  {
   "cell_type": "code",
   "execution_count": 7,
   "id": "88030489-fb79-460a-9f48-9e60ac132d95",
   "metadata": {},
   "outputs": [
    {
     "name": "stdout",
     "output_type": "stream",
     "text": [
      "6\n",
      "2\n"
     ]
    }
   ],
   "source": [
    "# Finger Exercise - pg. 72\n",
    "# Write a function mult that accepts either one or two ints as arguments. If called with two arguments, \n",
    "# the function prints the product of the two arguments. If called with one argument, it prints that argument.\n",
    "\n",
    "def mult(int1, int2=None):\n",
    "    if int1 and int2:\n",
    "        return int1*int2\n",
    "    else:\n",
    "        return int1\n",
    "    \n",
    "print(mult(2, 3))\n",
    "print(mult(2))"
   ]
  },
  {
   "cell_type": "code",
   "execution_count": 8,
   "id": "fdfa279b-2610-4424-b1d5-da34c98dc5f8",
   "metadata": {},
   "outputs": [
    {
     "name": "stdout",
     "output_type": "stream",
     "text": [
      "1.5\n",
      "-1.0\n"
     ]
    }
   ],
   "source": [
    "# Variable Number of Arguments, pg. 72\n",
    "\n",
    "def mean(*args):\n",
    "    total = 0\n",
    "    for i in args:\n",
    "        total += i\n",
    "    return total/len(args)\n",
    "\n",
    "print(mean(2, 1))\n",
    "print(mean(-1, -1))"
   ]
  },
  {
   "cell_type": "code",
   "execution_count": 9,
   "id": "14054c82-c130-4712-85fc-a6b007fc96f0",
   "metadata": {},
   "outputs": [
    {
     "name": "stdout",
     "output_type": "stream",
     "text": [
      "x = 4\n",
      "z = 4\n",
      "x = 3\n",
      "y = 2\n"
     ]
    }
   ],
   "source": [
    "# Scoping, pg. 73\n",
    "\n",
    "def f(x):\n",
    "    y = 1\n",
    "    x = x + y\n",
    "    print(f'x = {x}')\n",
    "    return x\n",
    "\n",
    "x = 3\n",
    "y = 2\n",
    "z = f(x)\n",
    "print(f'z = {z}')\n",
    "print(f'x = {x}')\n",
    "print(f'y = {y}')"
   ]
  },
  {
   "cell_type": "code",
   "execution_count": 10,
   "id": "3d5ec875-b3ce-4c16-ad5a-707ab004ce24",
   "metadata": {},
   "outputs": [
    {
     "name": "stdout",
     "output_type": "stream",
     "text": [
      "x = 4\n",
      "z = 4\n",
      "x = abc\n",
      "x = 4\n",
      "x = 3\n",
      "z = <function f.<locals>.g at 0x00000194DBCD08B0>\n",
      "x = abc\n"
     ]
    }
   ],
   "source": [
    "# Figure 4-5 Nested scopes, pg.74\n",
    "\n",
    "def f(x):\n",
    "    def g():\n",
    "        x = 'abc'\n",
    "        print(f'x = {x}')\n",
    "    def h():\n",
    "        z = x\n",
    "        print(f'z = {z}')\n",
    "    x = x + 1\n",
    "    print(f'x = {x}')\n",
    "    h()\n",
    "    g()\n",
    "    print(f'x = {x}')\n",
    "    return g\n",
    "\n",
    "x = 3\n",
    "z = f(x)\n",
    "print(f'x = {x}')\n",
    "print(f'z = {z}')\n",
    "z()"
   ]
  },
  {
   "cell_type": "code",
   "execution_count": 11,
   "id": "0c9c3b71-d868-4e0a-aeec-0d5c5d84f83d",
   "metadata": {},
   "outputs": [
    {
     "name": "stdout",
     "output_type": "stream",
     "text": [
      "3\n"
     ]
    }
   ],
   "source": [
    "def f():\n",
    "    print(x)\n",
    "    \n",
    "def g():\n",
    "    print(x)\n",
    "    x = 1\n",
    "    \n",
    "x = 3\n",
    "f()\n",
    "# x = 3\n",
    "# g()"
   ]
  },
  {
   "cell_type": "code",
   "execution_count": 12,
   "id": "b00b6982-fc31-479e-93a2-d547f5031dc1",
   "metadata": {},
   "outputs": [
    {
     "name": "stdout",
     "output_type": "stream",
     "text": [
      "Sum of approximation is 4.999988555908203\n"
     ]
    }
   ],
   "source": [
    "# Figure 4-7, pg. 80\n",
    "# Adding specification to the implementation of find_root in figure 4-3.\n",
    "\n",
    "def find_root(x, power, epsilon):\n",
    "    \"\"\"\n",
    "    Assumes x and epsilon int or float, power an int, epsilon > 0 & power >= 1\n",
    "    Returns float y such that y**power is within epsilon of x\n",
    "    If such a float does not exist, it returns None\n",
    "    \"\"\"\n",
    "    # Find interval containing answer\n",
    "    if x < 0 and power%2 == 0:\n",
    "        return None # Negative numbers have no even-powered roots\n",
    "    low = min(-1, x)\n",
    "    high = max(1, x)\n",
    "    # Use bisection search\n",
    "    ans = (high + low) / 2\n",
    "    while abs(ans**power - x) >= epsilon:\n",
    "        if ans**power < x:\n",
    "            low = ans\n",
    "        else:\n",
    "            high = ans\n",
    "        ans = (high + low) / 2\n",
    "    return ans\n",
    "\n",
    "x_vals = [25, -8, 16]\n",
    "powers = [2, 3, 4]\n",
    "epsilon = 0.001\n",
    "\n",
    "\n",
    "sum_vals = 0\n",
    "for element in range(len(x_vals)):\n",
    "    # print(find_root(x_vals[element], powers[element], epsilon))\n",
    "    sum_vals += find_root(x_vals[element], powers[element], epsilon)\n",
    "    \n",
    "print(f'Sum of approximation is {sum_vals}')"
   ]
  },
  {
   "cell_type": "code",
   "execution_count": 13,
   "id": "9eb11db8-1fed-4db6-9a9d-f5aa6a3aefe2",
   "metadata": {},
   "outputs": [
    {
     "name": "stdout",
     "output_type": "stream",
     "text": [
      "\n",
      "Welcome to Python 3.8's help utility!\n",
      "\n",
      "If this is your first time using Python, you should definitely check out\n",
      "the tutorial on the Internet at https://docs.python.org/3.8/tutorial/.\n",
      "\n",
      "Enter the name of any module, keyword, or topic to get help on writing\n",
      "Python programs and using Python modules.  To quit this help utility and\n",
      "return to the interpreter, just type \"quit\".\n",
      "\n",
      "To get a list of available modules, keywords, symbols, or topics, type\n",
      "\"modules\", \"keywords\", \"symbols\", or \"topics\".  Each module also comes\n",
      "with a one-line summary of what it does; to list the modules whose name\n",
      "or summary contain a given string such as \"spam\", type \"modules spam\".\n",
      "\n"
     ]
    },
    {
     "name": "stdin",
     "output_type": "stream",
     "text": [
      "help>  if\n"
     ]
    },
    {
     "name": "stdout",
     "output_type": "stream",
     "text": [
      "The \"if\" statement\n",
      "******************\n",
      "\n",
      "The \"if\" statement is used for conditional execution:\n",
      "\n",
      "   if_stmt ::= \"if\" assignment_expression \":\" suite\n",
      "               (\"elif\" assignment_expression \":\" suite)*\n",
      "               [\"else\" \":\" suite]\n",
      "\n",
      "It selects exactly one of the suites by evaluating the expressions one\n",
      "by one until one is found to be true (see section Boolean operations\n",
      "for the definition of true and false); then that suite is executed\n",
      "(and no other part of the \"if\" statement is executed or evaluated).\n",
      "If all expressions are false, the suite of the \"else\" clause, if\n",
      "present, is executed.\n",
      "\n",
      "Related help topics: TRUTHVALUE\n",
      "\n"
     ]
    },
    {
     "name": "stdin",
     "output_type": "stream",
     "text": [
      "help>  \n"
     ]
    },
    {
     "name": "stdout",
     "output_type": "stream",
     "text": [
      "\n",
      "You are now leaving help and returning to the Python interpreter.\n",
      "If you want to ask for help on a particular object directly from the\n",
      "interpreter, you can type \"help(object)\".  Executing \"help('string')\"\n",
      "has the same effect as typing a particular string at the help> prompt.\n"
     ]
    }
   ],
   "source": [
    "# Using the help() function\n",
    "help()"
   ]
  },
  {
   "cell_type": "code",
   "execution_count": 14,
   "id": "50cbb06f-9686-4f08-9dd9-5040261dc2c4",
   "metadata": {},
   "outputs": [
    {
     "name": "stdout",
     "output_type": "stream",
     "text": [
      "Help on function find_root in module __main__:\n",
      "\n",
      "find_root(x, power, epsilon)\n",
      "    Assumes x and epsilon int or float, power an int, epsilon > 0 & power >= 1\n",
      "    Returns float y such that y**power is within epsilon of x\n",
      "    If such a float does not exist, it returns None\n",
      "\n"
     ]
    }
   ],
   "source": [
    "help(find_root)"
   ]
  },
  {
   "cell_type": "code",
   "execution_count": 15,
   "id": "da71edda-bab2-494d-bcfa-ae444960980f",
   "metadata": {},
   "outputs": [
    {
     "data": {
      "text/plain": [
       "2.0"
      ]
     },
     "execution_count": 15,
     "metadata": {},
     "output_type": "execute_result"
    }
   ],
   "source": [
    "# Finger Exercise, pg.82\n",
    "# Using the algorithm of Figure 3-6, write a function that satisfies the specification.\n",
    "\n",
    "def log(x, base, epsilon):\n",
    "    \"\"\"\n",
    "    Assumes x and epsilon int for float, base an int, x > 1, epsilon > 0 & power >=1\n",
    "    Returns float y such that base**y is within epsilon of x\n",
    "    \"\"\"\n",
    "    lower_bound = 0\n",
    "    while base**lower_bound < x:\n",
    "        lower_bound += 1\n",
    "        \n",
    "    low = lower_bound - 1\n",
    "    high = lower_bound + 1\n",
    "    # Perform bisection search\n",
    "    ans = (high + low) / 2\n",
    "    while abs(base**ans - x) >= epsilon:\n",
    "        if base**ans < x:\n",
    "            low = ans\n",
    "        else:\n",
    "            high = ans\n",
    "        ans = (high + low) / 2\n",
    "        \n",
    "    return ans\n",
    "\n",
    "x = 25\n",
    "base = 5\n",
    "epsilon = 0.01\n",
    "\n",
    "log(x, base, epsilon)"
   ]
  },
  {
   "cell_type": "code",
   "execution_count": 16,
   "id": "0a4f7191-e5b8-478c-a796-ab63924dc1e1",
   "metadata": {},
   "outputs": [
    {
     "name": "stdout",
     "output_type": "stream",
     "text": [
      "5.0001220703125\n"
     ]
    }
   ],
   "source": [
    "# Figure 4-8, pg. 83\n",
    "# Using functions to Modularize Code\n",
    "# Splitting find_root into multiple functions\n",
    "def find_root_bounds(x, power):\n",
    "    \"\"\"\n",
    "    x a float, power a positive int\n",
    "    return low, high such that low**power <= x and high**power >= x\n",
    "    \"\"\"\n",
    "    low = min(-1, x)\n",
    "    high = max(1, x)\n",
    "    return low, high\n",
    "\n",
    "\n",
    "def bisection_solve(x, power, epsilon, low, high):\n",
    "    \"\"\"\n",
    "    x, epsilon, low, high are floats, epsilon > 0\n",
    "    low <= high and there is an ans between low and high s.t. ans**power is within epsilon of x\n",
    "    returns ans s.t. ans**power within epsilon of x\n",
    "    \"\"\"\n",
    "    ans = (high + low) / 2\n",
    "    while abs(ans**power - x) >= epsilon:\n",
    "        if ans**power < x:\n",
    "            low = ans\n",
    "        else:\n",
    "            high = ans\n",
    "        ans = (high + low) / 2\n",
    "    return ans\n",
    "\n",
    "\n",
    "def find_root(x, power, epsilon):\n",
    "    \"\"\"\n",
    "    Assumes x and epsilon int or float, power an int, epsilon > 0 & power >= 1\n",
    "    Returns float y such that y**power is within epsilon of x\n",
    "    If such a float does not exist, it returns None\n",
    "    \"\"\"\n",
    "    if x < 0 and power%2 == 0:\n",
    "        return None # Negative number has no even-powered roots\n",
    "    low, high = find_root_bounds(x, power)\n",
    "    return bisection_solve(x, power, epsilon, low, high)\n",
    "\n",
    "\n",
    "print(find_root(25, 2, 0.01))"
   ]
  },
  {
   "cell_type": "code",
   "execution_count": 17,
   "id": "fd928751-3684-4561-a3be-fd174923d3de",
   "metadata": {},
   "outputs": [
    {
     "name": "stdout",
     "output_type": "stream",
     "text": [
      "9.94970703125\n"
     ]
    }
   ],
   "source": [
    "# Figure 4-9, pg. 84\n",
    "# Genralizing bisection_solve()\n",
    "\n",
    "def bisection_solve(x, eval_ans, epsilon, low, high):\n",
    "    \"\"\"\n",
    "    x, epsilon, low, high are floats, epsilon > 0\n",
    "    low <= high and there is an ans between low and high s.t. ans**power is within epsilon of x\n",
    "    returns ans s.t. ans**power within epsilon of x\n",
    "    \"\"\"\n",
    "    ans = (high + low) / 2\n",
    "    while abs(eval_ans(ans) - x) >= epsilon:\n",
    "        if eval_ans(ans) < x:\n",
    "            low = ans\n",
    "        else:\n",
    "            high = ans\n",
    "        ans = (high + low) / 2\n",
    "    return ans\n",
    "\n",
    "def square(ans):\n",
    "    return ans**2\n",
    "\n",
    "low, high = find_root_bounds(99, 2)\n",
    "print(bisection_solve(99, square, 0.01, low, high))"
   ]
  },
  {
   "cell_type": "code",
   "execution_count": 18,
   "id": "44adaad2-c264-461e-9639-761a4e298e3f",
   "metadata": {},
   "outputs": [
    {
     "name": "stdout",
     "output_type": "stream",
     "text": [
      "9.94970703125\n"
     ]
    }
   ],
   "source": [
    "# lambda function\n",
    "print(bisection_solve(99, lambda ans: ans**2, 0.01, low, high))"
   ]
  },
  {
   "cell_type": "code",
   "execution_count": 19,
   "id": "f484772d-d6b9-487c-bf95-67d3f07015dd",
   "metadata": {},
   "outputs": [
    {
     "name": "stdout",
     "output_type": "stream",
     "text": [
      "ans = 2.0\n",
      "ans = 0\n"
     ]
    }
   ],
   "source": [
    "# Finger Exercise, pg. 85\n",
    "# Write a lambda expression that has two numeric parameters. If the second argument equals zero, it should return None.\n",
    "# Otherwise it should return teh value of dividing the first argument by the second argument. Hint: use a conditional expression\n",
    "\n",
    "ans = lambda arg1, arg2: arg1/arg2 if arg2 != 0 else 0\n",
    "\n",
    "arg1, arg2 = 4, 2\n",
    "print(f'ans = {ans(arg1, arg2)}')\n",
    "\n",
    "x, y = 4, 0\n",
    "print(f'ans = {ans(x, y)}')"
   ]
  },
  {
   "cell_type": "code",
   "execution_count": 20,
   "id": "85851f9d-21f6-4cbd-80ce-fdb5c1ec7bfa",
   "metadata": {},
   "outputs": [
    {
     "data": {
      "text/plain": [
       "1.999755859375"
      ]
     },
     "execution_count": 20,
     "metadata": {},
     "output_type": "execute_result"
    }
   ],
   "source": [
    "# Figure 4-10, pg. 86\n",
    "# Using bisection_solve to approximate logs\n",
    "\n",
    "def log(x, base, epsilon):\n",
    "    \"\"\"\n",
    "    Assumes x and epsilon int for float, base an int, x > 1, epsilon > 0 & power >=1\n",
    "    Returns float y such that base**y is within epsilon of x\n",
    "    \"\"\"\n",
    "    def find_log_bounds(x, base):\n",
    "        upper_bound = 0\n",
    "        while base**upper_bound < x:\n",
    "            upper_bound += 1\n",
    "        return upper_bound - 1, upper_bound\n",
    "    \n",
    "    low, high = find_log_bounds(x, base)\n",
    "    return bisection_solve(x, lambda ans: base**ans, epsilon, low, high)\n",
    "\n",
    "log(25, 5, 0.01)"
   ]
  },
  {
   "cell_type": "code",
   "execution_count": 21,
   "id": "ad4a819e-1487-4f3b-8a13-b53c3ad0388f",
   "metadata": {},
   "outputs": [
    {
     "data": {
      "text/plain": [
       "-1"
      ]
     },
     "execution_count": 21,
     "metadata": {},
     "output_type": "execute_result"
    }
   ],
   "source": [
    "# Finger Exercise, pg.87\n",
    "# What does s.find(sub) return if sub does not occur in s?\n",
    "\n",
    "s = 'I love MIT'\n",
    "sub = 'CS'\n",
    "s.find(sub)"
   ]
  },
  {
   "cell_type": "code",
   "execution_count": 22,
   "id": "8aa61e9f-a632-45c8-8245-3e573fad8d36",
   "metadata": {},
   "outputs": [
    {
     "data": {
      "text/plain": [
       "21"
      ]
     },
     "execution_count": 22,
     "metadata": {},
     "output_type": "execute_result"
    }
   ],
   "source": [
    "# Finger Exercise, pg. 87\n",
    "# Use find to implement a function satisfying the specification\n",
    "\n",
    "def find_last(s, sub):\n",
    "    \"\"\"\n",
    "    s and sub are non-empty strings\n",
    "    Returns the index of the last occurence of sub in s\n",
    "    Returns None if sub does not occur in s\n",
    "    \"\"\"\n",
    "    if sub not in s:\n",
    "        return None\n",
    "    else:\n",
    "        return s.rfind(sub)\n",
    "    \n",
    "    \n",
    "s = 'I love MIT and CS at MIT'\n",
    "sub = 'MIT'\n",
    "find_last(s, sub)"
   ]
  },
  {
   "cell_type": "code",
   "execution_count": null,
   "id": "a961ed0b-0a35-42d1-9d7c-8ffd7c0daeae",
   "metadata": {},
   "outputs": [],
   "source": []
  },
  {
   "cell_type": "code",
   "execution_count": null,
   "id": "82aba6b3-879e-4786-a6d2-3024ca86800a",
   "metadata": {},
   "outputs": [],
   "source": []
  },
  {
   "cell_type": "code",
   "execution_count": null,
   "id": "8e598bd9-ed5a-44b5-94ef-ab6289ba31a7",
   "metadata": {},
   "outputs": [],
   "source": []
  }
 ],
 "metadata": {
  "kernelspec": {
   "display_name": "Python 3",
   "language": "python",
   "name": "python3"
  },
  "language_info": {
   "codemirror_mode": {
    "name": "ipython",
    "version": 3
   },
   "file_extension": ".py",
   "mimetype": "text/x-python",
   "name": "python",
   "nbconvert_exporter": "python",
   "pygments_lexer": "ipython3",
   "version": "3.8.8"
  }
 },
 "nbformat": 4,
 "nbformat_minor": 5
}

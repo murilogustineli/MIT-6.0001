{
 "cells": [
  {
   "cell_type": "markdown",
   "id": "ed37b448-b6b7-40fc-bb1e-8a2b77ec0b75",
   "metadata": {},
   "source": [
    "# MIT - 6.0001\n",
    "## Chapter 03 - Simple Numerical Programs"
   ]
  },
  {
   "cell_type": "code",
   "execution_count": 1,
   "id": "f0c16207-3d55-4622-b28e-a9d9bba883d1",
   "metadata": {},
   "outputs": [
    {
     "name": "stdout",
     "output_type": "stream",
     "text": [
      "Cube root of -8 is -2\n"
     ]
    }
   ],
   "source": [
    "# Find the cube root of a perfect cube - pg.45\n",
    "x = -8\n",
    "ans = 0\n",
    "\n",
    "while ans**3 < abs(x):\n",
    "    ans += 1\n",
    "\n",
    "if ans**3 != abs(x):\n",
    "    print(f'{x} is not a perfect cube')\n",
    "else:\n",
    "    if x < 0:\n",
    "        ans = -ans\n",
    "    print(f'Cube root of {x} is {ans}')"
   ]
  },
  {
   "cell_type": "code",
   "execution_count": 2,
   "id": "eb8f825a-2723-4043-8fe5-3b03c2ac52e4",
   "metadata": {},
   "outputs": [
    {
     "name": "stdout",
     "output_type": "stream",
     "text": [
      "10000000\n"
     ]
    }
   ],
   "source": [
    "# Exhaustive Enumeration\n",
    "# It's when we enumerate all possibilies until we get to the right answer or exhaust the space of possibilities available.\n",
    "# Test how large an integer you need before there is a perceptible pause before the result is printed.\n",
    "max_val = 10000000\n",
    "i = 0\n",
    "while i < max_val:\n",
    "    i += 1\n",
    "print(i)"
   ]
  },
  {
   "cell_type": "code",
   "execution_count": 3,
   "id": "04ef4675-30da-426d-9c63-ae9708215565",
   "metadata": {},
   "outputs": [
    {
     "name": "stdout",
     "output_type": "stream",
     "text": [
      "97 is a prime number\n"
     ]
    }
   ],
   "source": [
    "# Test if an int > 2 is prime. If not, print smallest divisor\n",
    "x = 97\n",
    "smallest_divisor = None\n",
    "\n",
    "for guess in range(2, x):\n",
    "    if x % guess == 0:\n",
    "        smallest_divisor = guess\n",
    "        break\n",
    "if smallest_divisor != None:\n",
    "    print(f'Smallest divisor of {x} is {smallest_divisor}')\n",
    "else:\n",
    "    print(f'{x} is a prime number')"
   ]
  },
  {
   "cell_type": "code",
   "execution_count": 4,
   "id": "b43ef1bb-3839-4047-9bb0-3c6d25eeb707",
   "metadata": {},
   "outputs": [
    {
     "name": "stdout",
     "output_type": "stream",
     "text": [
      "Largest divisor of 12 is 6\n"
     ]
    }
   ],
   "source": [
    "# Finger Exercise - pg. 49\n",
    "# Change the code from the cell above so it return the largest rather than smallest divisor.\n",
    "\n",
    "x = 12\n",
    "largest_divisor = None\n",
    "\n",
    "for guess in range(2, x):\n",
    "    if x % guess == 0 and guess != x:\n",
    "        largest_divisor = guess\n",
    "if largest_divisor != None:\n",
    "    print(f'Largest divisor of {x} is {largest_divisor}')\n",
    "else:\n",
    "    print(f'{x} is a prime number')"
   ]
  },
  {
   "cell_type": "code",
   "execution_count": 5,
   "id": "2420876a-c474-41d2-a9c5-64fc4f4f4afc",
   "metadata": {},
   "outputs": [
    {
     "name": "stdout",
     "output_type": "stream",
     "text": [
      "Smallest divisor of 12 is 2\n"
     ]
    }
   ],
   "source": [
    "# Test if an int > 2 is prime. If not, print smallest divisor\n",
    "\n",
    "x = 12\n",
    "smallest_divisor = None\n",
    "\n",
    "if x % 2 == 0:\n",
    "    smallest_divisor = 2\n",
    "else:\n",
    "    for guess in range(3, x, 2):\n",
    "        if x%guess == 0:\n",
    "            smallest_divisor = guess\n",
    "            break\n",
    "if smallest_divisor != None:\n",
    "    print(f'Smallest divisor of {x} is {smallest_divisor}')\n",
    "else:\n",
    "    print(f'{x} is a prime number')"
   ]
  },
  {
   "cell_type": "code",
   "execution_count": 6,
   "id": "405f039b-a71a-489f-be5f-2d814ce3d200",
   "metadata": {},
   "outputs": [
    {
     "name": "stdout",
     "output_type": "stream",
     "text": [
      "4**2 is equal to 16\n"
     ]
    }
   ],
   "source": [
    "# Finger Exercise - pg. 49\n",
    "# Write a program that aks the user to enter an integer and prints two integers, root and pwr, such that 1 < pwr < 6 \n",
    "# and root**pwr is equal to the integer entered by the user. If no such pair of integers exist, it should print a message to that effect.\n",
    "\n",
    "# x = int(input('Enter an integer number: '))\n",
    "x = 16\n",
    "root = None\n",
    "pwr = None\n",
    "\n",
    "for r in range(1, (x//2)+1):\n",
    "    for p in range(1, 6):\n",
    "        if r**p == x:\n",
    "            root, pwr = r, p\n",
    "            break\n",
    "\n",
    "if (root and pwr) == None:\n",
    "    print('No such pair of root and pwr exist')\n",
    "else:\n",
    "    print(f'{root}**{pwr} is equal to {x}')"
   ]
  },
  {
   "cell_type": "code",
   "execution_count": 7,
   "id": "c7fd5303-d4c0-4648-a9dd-c5c0a5676f5d",
   "metadata": {},
   "outputs": [
    {
     "name": "stdout",
     "output_type": "stream",
     "text": [
      "3 5 7 11 13 17 19 23 29 31 37 41 43 47 53 59 61 67 71 73 79 83 89 97 101 103 107 109 113 127 131 137 139 149 151 157 163 167 173 179 181 191 193 197 199 211 223 227 229 233 239 241 251 257 263 269 271 277 281 283 293 307 311 313 317 331 337 347 349 353 359 367 373 379 383 389 397 401 409 419 421 431 433 439 443 449 457 461 463 467 479 487 491 499 503 509 521 523 541 547 557 563 569 571 577 587 593 599 601 607 613 617 619 631 641 643 647 653 659 661 673 677 683 691 701 709 719 727 733 739 743 751 757 761 769 773 787 797 809 811 821 823 827 829 839 853 857 859 863 877 881 883 887 907 911 919 929 937 941 947 953 967 971 977 983 991 997 \n",
      "\n",
      "Sum of prime numbers is 76125\n"
     ]
    }
   ],
   "source": [
    "# Finger Exercise - pg. 50\n",
    "# Write a program that prints the sum of the prime numbers greater than 2 and less than 1000\n",
    "sum_prime = 0\n",
    "for num in range(3, 1000, 2):\n",
    "    for i in range(2, num):\n",
    "        if (num % i) == 0:\n",
    "            break\n",
    "    else:\n",
    "        sum_prime += num\n",
    "        print(num, end=' ')\n",
    "        \n",
    "print(f'\\n\\nSum of prime numbers is {sum_prime}')"
   ]
  },
  {
   "cell_type": "markdown",
   "id": "6e4a0fdd-aca6-4175-9284-48244e8885b2",
   "metadata": {},
   "source": [
    "## Bisection Search (Binary Search)"
   ]
  },
  {
   "cell_type": "code",
   "execution_count": 8,
   "id": "23725440-a5a7-4261-bc44-3bcaffceabc1",
   "metadata": {},
   "outputs": [
    {
     "name": "stdout",
     "output_type": "stream",
     "text": [
      "number of guesses = 49990\n",
      "4.999000000001688 is close to square root of 25\n"
     ]
    }
   ],
   "source": [
    "# Bisection Search - code on page 51\n",
    "epsilon = 0.01\n",
    "step = epsilon**2\n",
    "num_guesses = 0\n",
    "ans = 0\n",
    "x = 25\n",
    "\n",
    "while abs(ans**2 - x) >= epsilon and ans*ans <= x:\n",
    "    ans += step\n",
    "    num_guesses += 1\n",
    "print(f'number of guesses = {num_guesses}')\n",
    "\n",
    "if abs(ans**2 - x) >= epsilon:\n",
    "    print(f'Failed on square root of {x}')\n",
    "else:\n",
    "    print(f'{ans} is close to square root of {x}')"
   ]
  },
  {
   "cell_type": "code",
   "execution_count": 9,
   "id": "f9509b62-047e-48c2-a46d-ae68a385397a",
   "metadata": {},
   "outputs": [
    {
     "name": "stdout",
     "output_type": "stream",
     "text": [
      "low = 0, high = 25, ans = 12.5\n",
      "low = 0, high = 12.5, ans = 6.25\n",
      "low = 0, high = 6.25, ans = 3.125\n",
      "low = 3.125, high = 6.25, ans = 4.6875\n",
      "low = 4.6875, high = 6.25, ans = 5.46875\n",
      "low = 4.6875, high = 5.46875, ans = 5.078125\n",
      "low = 4.6875, high = 5.078125, ans = 4.8828125\n",
      "low = 4.8828125, high = 5.078125, ans = 4.98046875\n",
      "low = 4.98046875, high = 5.078125, ans = 5.029296875\n",
      "low = 4.98046875, high = 5.029296875, ans = 5.0048828125\n",
      "low = 4.98046875, high = 5.0048828125, ans = 4.99267578125\n",
      "low = 4.99267578125, high = 5.0048828125, ans = 4.998779296875\n",
      "low = 4.998779296875, high = 5.0048828125, ans = 5.0018310546875\n",
      "\n",
      "numGuesses = 13\n",
      "5.00030517578125 is close to square root of 25\n"
     ]
    }
   ],
   "source": [
    "# Figure 3-5. Using Bisection Search to compute the square root of a number - pg.54\n",
    "x = 25\n",
    "epsilon = 0.01\n",
    "numGuesses = 0\n",
    "low = 0\n",
    "high = x\n",
    "ans = (low + high) / 2\n",
    "\n",
    "while abs(ans**2 - x) >= epsilon:\n",
    "    print(f'low = {low}, high = {high}, ans = {ans}')\n",
    "    numGuesses += 1\n",
    "    if ans**2 < x:\n",
    "        low = ans\n",
    "    else:\n",
    "        high = ans\n",
    "    ans = (low + high) / 2\n",
    "\n",
    "print(f'\\nnumGuesses = {numGuesses}')\n",
    "print(f'{ans} is close to square root of {x}')"
   ]
  },
  {
   "cell_type": "code",
   "execution_count": 10,
   "id": "16eb4649-fa4a-4209-be7c-70ec71075a15",
   "metadata": {},
   "outputs": [
    {
     "name": "stdout",
     "output_type": "stream",
     "text": [
      "5\n",
      "4.6435546875 is close to the log base 2 of 25\n"
     ]
    }
   ],
   "source": [
    "# Find lower bound on ans\n",
    "lower_bound = 0\n",
    "x = 25\n",
    "\n",
    "while 2**lower_bound < x:\n",
    "    lower_bound += 1\n",
    "\n",
    "print(lower_bound)\n",
    "low = lower_bound - 1\n",
    "high = lower_bound + 1\n",
    "\n",
    "# Perform bisection search\n",
    "ans = (high + low) / 2\n",
    "\n",
    "while abs(2**ans - x) >= epsilon:\n",
    "    if 2**ans < x:\n",
    "        low = ans\n",
    "    else:\n",
    "        high = ans\n",
    "    ans = (low + high) / 2\n",
    "\n",
    "print(f'{ans} is close to the log base 2 of {x}')"
   ]
  },
  {
   "cell_type": "code",
   "execution_count": 11,
   "id": "9a7911c4-40b5-4e63-aa97-e4cb52d7ea73",
   "metadata": {},
   "outputs": [
    {
     "name": "stdout",
     "output_type": "stream",
     "text": [
      "5.0\n",
      "4.643856189774724\n"
     ]
    }
   ],
   "source": [
    "import math\n",
    "\n",
    "print(math.sqrt(25))\n",
    "print(math.log(25, 2))"
   ]
  },
  {
   "cell_type": "code",
   "execution_count": 12,
   "id": "6244fb39-e9cd-4b52-86fe-7835e27f05ad",
   "metadata": {},
   "outputs": [
    {
     "name": "stdout",
     "output_type": "stream",
     "text": [
      "-25 -12.5 156.25\n",
      "181.25\n"
     ]
    }
   ],
   "source": [
    "# Finger Exercise - pg. 56\n",
    "# What would the code in Figure 3-5 do if x = -25?\n",
    "\n",
    "# ANS: The while loop would keep running forever\n",
    "x = -25\n",
    "low, high = 0, x\n",
    "ans = (low + high) / 2\n",
    "print(x, ans, ans**2)\n",
    "print(abs(ans**2 - x))"
   ]
  },
  {
   "cell_type": "code",
   "execution_count": 13,
   "id": "c374869a-9d88-4652-a8d1-98f4b78b6fdb",
   "metadata": {},
   "outputs": [
    {
     "name": "stdout",
     "output_type": "stream",
     "text": [
      "low = -27, high = 0, ans = -13.5\n",
      "low = -13.5, high = 0, ans = -6.75\n",
      "low = -6.75, high = 0, ans = -3.375\n",
      "low = -3.375, high = 0, ans = -1.6875\n",
      "low = -3.375, high = -1.6875, ans = -2.53125\n",
      "low = -3.375, high = -2.53125, ans = -2.953125\n",
      "low = -3.375, high = -2.953125, ans = -3.1640625\n",
      "low = -3.1640625, high = -2.953125, ans = -3.05859375\n",
      "low = -3.05859375, high = -2.953125, ans = -3.005859375\n",
      "low = -3.005859375, high = -2.953125, ans = -2.9794921875\n",
      "low = -3.005859375, high = -2.9794921875, ans = -2.99267578125\n",
      "low = -3.005859375, high = -2.99267578125, ans = -2.999267578125\n",
      "low = -3.005859375, high = -2.999267578125, ans = -3.0025634765625\n",
      "low = -3.0025634765625, high = -2.999267578125, ans = -3.00091552734375\n",
      "\n",
      "numGuesses = 14\n",
      "-3.000091552734375 is close to square root of -27\n"
     ]
    }
   ],
   "source": [
    "# Finger Exercise - pg. 56\n",
    "# What would have to be changed to make the code in Figure 3-5 word for finding an approximation to the cube root \n",
    "# of both negative and positive numbers?\n",
    "\n",
    "# Figure 3-5. Using Bisection Search to compute the square root of a number - pg.54\n",
    "x = -27\n",
    "epsilon = 0.01\n",
    "numGuesses = 0\n",
    "low = min(0, x)\n",
    "high = max(0, x)\n",
    "ans = (low + high) / 2\n",
    "\n",
    "while abs(ans**3 - x) >= epsilon:\n",
    "    print(f'low = {low}, high = {high}, ans = {ans}')\n",
    "    numGuesses += 1\n",
    "    if ans**3 < x:\n",
    "        low = ans\n",
    "    else:\n",
    "        high = ans\n",
    "    ans = (low + high) / 2\n",
    "\n",
    "print(f'\\nnumGuesses = {numGuesses}')\n",
    "print(f'{ans} is close to square root of {x}')"
   ]
  },
  {
   "cell_type": "code",
   "execution_count": 14,
   "id": "fbd2a316-6b47-469a-b4cb-ad8561df40f7",
   "metadata": {},
   "outputs": [
    {
     "name": "stdout",
     "output_type": "stream",
     "text": [
      "low = 6, high = 8, ans = 7.0\n",
      "low = 6, high = 7.0, ans = 6.5\n",
      "low = 6.5, high = 7.0, ans = 6.75\n",
      "low = 6.5, high = 6.75, ans = 6.625\n",
      "low = 6.625, high = 6.75, ans = 6.6875\n",
      "low = 6.625, high = 6.6875, ans = 6.65625\n",
      "\n",
      "num of eggs = 6\n",
      "6.671875 is close to 7\n"
     ]
    }
   ],
   "source": [
    "# Finger Exercise - pg. 56\n",
    "# The Empire State Building is 102 stories high...\n",
    "\n",
    "lower_bound = 0\n",
    "x = 102\n",
    "\n",
    "while 2**lower_bound < x:\n",
    "    lower_bound += 1\n",
    "\n",
    "low = lower_bound - 1\n",
    "high = lower_bound + 1\n",
    "epsilon = 0.1\n",
    "num_eggs= 0\n",
    "ans = (low + high) /2\n",
    "\n",
    "while abs(2**ans - x) >= epsilon:\n",
    "    print(f'low = {low}, high = {high}, ans = {ans}')\n",
    "    num_eggs += 1\n",
    "    if 2**ans < x:\n",
    "        low = ans\n",
    "    else:\n",
    "        high = ans\n",
    "    ans = (low + high) / 2\n",
    "    \n",
    "print(f'\\nnum of eggs = {num_eggs}')\n",
    "print(f'{ans} is close to 7')"
   ]
  },
  {
   "cell_type": "code",
   "execution_count": 15,
   "id": "a9335a38-48ef-4619-b448-32458b7009ce",
   "metadata": {},
   "outputs": [
    {
     "data": {
      "text/plain": [
       "6.672425341971495"
      ]
     },
     "execution_count": 15,
     "metadata": {},
     "output_type": "execute_result"
    }
   ],
   "source": [
    "math.log(102, 2)"
   ]
  },
  {
   "cell_type": "code",
   "execution_count": 16,
   "id": "f01eea89-8064-41b2-89ac-f8917e621f39",
   "metadata": {},
   "outputs": [
    {
     "name": "stdout",
     "output_type": "stream",
     "text": [
      "0.1\n",
      "0.2\n",
      "0.30000000000000004\n",
      "0.4\n",
      "0.5\n",
      "0.6\n",
      "0.7\n",
      "0.7999999999999999\n",
      "0.8999999999999999\n",
      "0.9999999999999999\n",
      "\n",
      "0.9999999999999999 is not 1.0\n",
      "False\n"
     ]
    }
   ],
   "source": [
    "# pg. 56 - Using floats\n",
    "x = 0.0\n",
    "for i in range(10):\n",
    "    x = x + 0.1\n",
    "    print(x)\n",
    "\n",
    "if x == 1.0:\n",
    "    print(f'\\n{x} = 1.0')\n",
    "else:\n",
    "    print(f'\\n{x} is not 1.0')\n",
    "    print(x == 10.0*0.1)"
   ]
  },
  {
   "cell_type": "code",
   "execution_count": 17,
   "id": "cfeb663d-1bf7-4bd0-81d2-a2d7df7c3641",
   "metadata": {},
   "outputs": [
    {
     "name": "stdout",
     "output_type": "stream",
     "text": [
      "19\n"
     ]
    }
   ],
   "source": [
    "# Finger Exercise - pg.57\n",
    "# What's the decimal equivalent of the binary number 10011?\n",
    "\n",
    "decimal = 1*16 + 0*8 + 0*4 + 1*2 + 1*1\n",
    "print(decimal)"
   ]
  },
  {
   "cell_type": "code",
   "execution_count": 18,
   "id": "a3fb3e8e-d508-4dad-b39d-300de873bd52",
   "metadata": {},
   "outputs": [
    {
     "name": "stdout",
     "output_type": "stream",
     "text": [
      "Square root of 24 is about 4.8989887432139305\n",
      "Number of iterations is 4\n"
     ]
    }
   ],
   "source": [
    "# Finger Exercise - pg. 61\n",
    "# Newton-Raphson algorithm for square root\n",
    "# Find x such that x**2 - 24 is within epsilon of 0\n",
    "k = 24\n",
    "epsilon = 0.01\n",
    "guess = k/2\n",
    "num_iterations = 0\n",
    "\n",
    "while abs(guess**2 - k) >= epsilon:\n",
    "    guess = guess - (((guess**2) - k)/(2*guess))\n",
    "    num_iterations += 1\n",
    "    \n",
    "print(f'Square root of {k} is about {guess}')\n",
    "print(f'Number of iterations is {num_iterations}')"
   ]
  },
  {
   "cell_type": "code",
   "execution_count": 19,
   "id": "e5fd2ac6-c596-412a-8e95-1696bf02bc40",
   "metadata": {},
   "outputs": [],
   "source": [
    "# Newton-Raphson algorithm vs Bisection Search\n",
    "def newton_raphson(x):\n",
    "    epsilon = 0.01\n",
    "    guess = k/2\n",
    "    num_iterations = 0\n",
    "\n",
    "    while abs(guess**2 - x) >= epsilon:\n",
    "        guess = guess - (((guess**2) - x)/(2*guess))\n",
    "        num_iterations += 1\n",
    "        \n",
    "    return guess, num_iterations\n",
    "\n",
    "\n",
    "def bisection_search(x):\n",
    "    epsilon = 0.01\n",
    "    numGuesses = 0\n",
    "    low = 0\n",
    "    high = x\n",
    "    ans = (low + high) / 2\n",
    "\n",
    "    while abs(ans**2 - x) >= epsilon:\n",
    "        numGuesses += 1\n",
    "        if ans**2 < x:\n",
    "            low = ans\n",
    "        else:\n",
    "            high = ans\n",
    "        ans = (low + high) / 2\n",
    "        \n",
    "    return ans, numGuesses"
   ]
  },
  {
   "cell_type": "code",
   "execution_count": 20,
   "id": "ad9125e4-8a03-48c7-9526-7107f106ec7d",
   "metadata": {},
   "outputs": [
    {
     "name": "stdout",
     "output_type": "stream",
     "text": [
      "Newton-Raphson: Square root of 1000000 is about 1000.0000000423933\n",
      "Newton-Raphson: Number of iterations is 10\n",
      "\n",
      "Bisection Search: Square root of 1000000 is about 1000.0000038417056\n",
      "Bisection Search: Number of iterations is 35\n",
      "\n"
     ]
    }
   ],
   "source": [
    "def main():\n",
    "    x = 1000000\n",
    "    nr_answer, nr_iterations = newton_raphson(x)\n",
    "    bi_answer, bi_iterations = bisection_search(x)\n",
    "    print(f'Newton-Raphson: Square root of {x} is about {nr_answer}')\n",
    "    print(f'Newton-Raphson: Number of iterations is {nr_iterations}\\n')\n",
    "    \n",
    "    print(f'Bisection Search: Square root of {x} is about {bi_answer}')\n",
    "    print(f'Bisection Search: Number of iterations is {bi_iterations}\\n')\n",
    "    \n",
    "if __name__ == '__main__':\n",
    "    main()"
   ]
  },
  {
   "cell_type": "code",
   "execution_count": null,
   "id": "26b9ba83-24c2-4865-9b45-e1cdc30d3815",
   "metadata": {},
   "outputs": [],
   "source": []
  },
  {
   "cell_type": "code",
   "execution_count": null,
   "id": "b3c8d2f4-104c-4a2d-b59f-8938d5c9f434",
   "metadata": {},
   "outputs": [],
   "source": []
  }
 ],
 "metadata": {
  "kernelspec": {
   "display_name": "Python 3",
   "language": "python",
   "name": "python3"
  },
  "language_info": {
   "codemirror_mode": {
    "name": "ipython",
    "version": 3
   },
   "file_extension": ".py",
   "mimetype": "text/x-python",
   "name": "python",
   "nbconvert_exporter": "python",
   "pygments_lexer": "ipython3",
   "version": "3.8.8"
  }
 },
 "nbformat": 4,
 "nbformat_minor": 5
}

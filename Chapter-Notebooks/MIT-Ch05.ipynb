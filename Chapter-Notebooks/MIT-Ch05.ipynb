{
 "cells": [
  {
   "cell_type": "markdown",
   "id": "9f407841-6736-4b17-b166-d9af7789b446",
   "metadata": {},
   "source": [
    "# MIT 6.0001\n",
    "## Chapter 5 - Structured Types and Mutability"
   ]
  },
  {
   "cell_type": "markdown",
   "id": "ba5131ba-2139-4826-a961-3070ed3c9201",
   "metadata": {},
   "source": [
    "### Tuples"
   ]
  },
  {
   "cell_type": "code",
   "execution_count": 1,
   "id": "1f9206a5-30ae-4e15-9691-9d2bd979f59f",
   "metadata": {},
   "outputs": [
    {
     "name": "stdout",
     "output_type": "stream",
     "text": [
      "((1, 'two', 3), 3.25)\n",
      "(1, 'two', 3, (1, 'two', 3), 3.25)\n",
      "(1, 'two', 3)\n",
      "(3, (1, 'two', 3), 3.25)\n"
     ]
    }
   ],
   "source": [
    "# Tuples, pg. 90\n",
    "t1 = (1, 'two', 3)\n",
    "t2 = (t1, 3.25)\n",
    "print(t2)\n",
    "print((t1 + t2))\n",
    "print((t1 + t2)[3])\n",
    "print((t1 + t2)[2:5])"
   ]
  },
  {
   "cell_type": "code",
   "execution_count": 2,
   "id": "f42fe3e1-2ce0-4644-87ab-23b0cffd9600",
   "metadata": {},
   "outputs": [
    {
     "name": "stdout",
     "output_type": "stream",
     "text": [
      "min_divisor: 2\n",
      "max_divisor: 100\n"
     ]
    }
   ],
   "source": [
    "# Multiple Assignments, pg. 91\n",
    "def find_extreme_divisor(n1, n2):\n",
    "    \"\"\"\n",
    "    Assumes that n1 and n2 are positive ints\n",
    "    Returns a tuple containing the smallest common divisor > 1 and the largest common divisor of n1 & n2\n",
    "    If no common divisor, other than 1, returns (None, None)\n",
    "    \"\"\"\n",
    "    min_val, max_val = None, None\n",
    "    for i in range(2, min(n1, n2)+1):\n",
    "        if n1%i == 0 and n2%i == 0:\n",
    "            if min_val == None:\n",
    "                min_val = i\n",
    "            max_val = i\n",
    "    return min_val, max_val\n",
    "\n",
    "min_divisor, max_divisor = find_extreme_divisor(100, 200)\n",
    "print(f'min_divisor: {min_divisor}\\nmax_divisor: {max_divisor}')"
   ]
  },
  {
   "cell_type": "code",
   "execution_count": 3,
   "id": "ecdfa212-ae3c-4976-982a-29cecab7414c",
   "metadata": {},
   "outputs": [
    {
     "name": "stdout",
     "output_type": "stream",
     "text": [
      "4.0\n"
     ]
    }
   ],
   "source": [
    "# Finger Exercise, pg. 93\n",
    "# Write an expression that evaluates to the mean of a tuple of numbers. Use the function sum\n",
    "\n",
    "tuple_nums = (1, 2, 3, 4, 5, 6, 7)\n",
    "mean = sum(tuple_nums)/len(tuple_nums)\n",
    "print(mean)"
   ]
  },
  {
   "cell_type": "markdown",
   "id": "3642f688-bc34-4414-ae80-bf3986cfb06f",
   "metadata": {},
   "source": [
    "### Lists"
   ]
  },
  {
   "cell_type": "code",
   "execution_count": 4,
   "id": "76ba9b5e-b72e-4dab-9168-62ddaabb1e48",
   "metadata": {},
   "outputs": [
    {
     "name": "stdout",
     "output_type": "stream",
     "text": [
      "L1: [1, 2, 3]\n",
      "L2: [3, 2, 1]\n",
      "3\n",
      "4\n",
      "3\n"
     ]
    }
   ],
   "source": [
    "# Lists and Mutability, pg. 93\n",
    "L1 = [1, 2, 3]\n",
    "L2 = L1[-1::-1]\n",
    "\n",
    "print(f'L1: {L1}')\n",
    "print(f'L2: {L2}')\n",
    "\n",
    "for i in range(len(L1)):\n",
    "    print(L1[i]*L2[i])"
   ]
  },
  {
   "cell_type": "code",
   "execution_count": 5,
   "id": "7a4cb254-dd2f-4862-8396-e0d9673c0bbf",
   "metadata": {},
   "outputs": [
    {
     "name": "stdout",
     "output_type": "stream",
     "text": [
      "l1: [[], []]\n",
      "l2: [[], []]\n",
      "l1: [[0, 1], [0, 1]]\n",
      "l2: [[0], [1]]\n"
     ]
    }
   ],
   "source": [
    "l1 = [[]]*2\n",
    "l2 = [[], []]\n",
    "\n",
    "print(f'l1: {l1}')\n",
    "print(f'l2: {l2}')\n",
    "\n",
    "for i in range(len(l1)):\n",
    "    l1[i].append(i)\n",
    "    l2[i].append(i)\n",
    "    \n",
    "print(f'l1: {l1}')\n",
    "print(f'l2: {l2}')"
   ]
  },
  {
   "cell_type": "code",
   "execution_count": 6,
   "id": "750c07c0-f8e4-4fab-8e0f-cea533e375ff",
   "metadata": {},
   "outputs": [
    {
     "name": "stdout",
     "output_type": "stream",
     "text": [
      "True\n"
     ]
    }
   ],
   "source": [
    "# Finger exercise, pg. 98\n",
    "# What does the following code print?\n",
    "\n",
    "l = [1, 2, 3]\n",
    "l.append(l)\n",
    "print(l is l[-1])"
   ]
  },
  {
   "cell_type": "code",
   "execution_count": 7,
   "id": "9456af9c-1813-4304-b1ac-b265d21189d5",
   "metadata": {},
   "outputs": [
    {
     "name": "stdout",
     "output_type": "stream",
     "text": [
      "[3]\n",
      "[3, 4]\n"
     ]
    }
   ],
   "source": [
    "# Mistake, pg. 99, List_1.append(val) <-- list_1.append(val)\n",
    "def append_val(val, list_1 = []):\n",
    "    list_1.append(val)\n",
    "    print(list_1)\n",
    "    \n",
    "append_val(3)\n",
    "append_val(4)"
   ]
  },
  {
   "cell_type": "code",
   "execution_count": 8,
   "id": "456d5506-5c45-4d47-a0a3-b951451a7660",
   "metadata": {},
   "outputs": [
    {
     "name": "stdout",
     "output_type": "stream",
     "text": [
      "l3 = [1, 2, 3, 4, 5, 6]\n",
      "l1 = [1, 2, 3, 4, 5, 6]\n",
      "l1 = [1, 2, 3, 4, 5, 6, [4, 5, 6]]\n"
     ]
    }
   ],
   "source": [
    "l1 = [1, 2, 3]\n",
    "l2 = [4, 5, 6]\n",
    "l3 = l1 + l2\n",
    "print(f'l3 = {l3}')\n",
    "\n",
    "l1.extend(l2)\n",
    "print(f'l1 = {l1}')\n",
    "\n",
    "l1.append(l2)\n",
    "print(f'l1 = {l1}')"
   ]
  },
  {
   "cell_type": "code",
   "execution_count": 9,
   "id": "48e65f83-385f-4e91-9df0-105dae67d9f8",
   "metadata": {},
   "outputs": [],
   "source": [
    "# Figure 5-4, pg. 100\n",
    "# Methods associated with lists\n",
    "L, e, i, L1 = [1, 2, 3], 4, 0, [5, 6]\n",
    "\n",
    "L.append(e)  # Adds the object e to the end of L.\n",
    "\n",
    "L.count(e)  # Returns the number of times that e occurs in L.\n",
    "\n",
    "L.insert(i, e)  # Inserts the object e into L at index i.\n",
    "\n",
    "L.extend(L1)  # Adds the items in list L1 to the end of L.\n",
    "\n",
    "L.remove(e)  # Deletes the first occurrence of e from L.\n",
    "\n",
    "L.index(e)  # Returns the index of the first occurrence of e in L, raises an exception if e is not in L.\n",
    "\n",
    "L.pop(i)  # Removes and returns the item at index i in L, raises an exception if L is empty. \n",
    "          # If i is omitted, it defaults to -1, to remove and return the last element of L.\n",
    "\n",
    "L.sort()  # Sorts the elements of L in ascending order.\n",
    "\n",
    "L.reverse()  # Reverses the order of the elements in L."
   ]
  },
  {
   "cell_type": "code",
   "execution_count": 10,
   "id": "0d068d86-18e3-4bdb-b92a-91eef5b9190e",
   "metadata": {},
   "outputs": [
    {
     "name": "stdout",
     "output_type": "stream",
     "text": [
      "l2 = [[2], [2]]\n",
      "l3 = [[2], [2]]\n",
      "l3 = [[2, 3], [2, 3]]\n"
     ]
    }
   ],
   "source": [
    "import copy\n",
    "\n",
    "l1 = [2]\n",
    "l2 = [l1, l1]\n",
    "print(f'l2 = {l2}')\n",
    "\n",
    "l3 = copy.deepcopy(l2)\n",
    "print(f'l3 = {l3}')\n",
    "\n",
    "l3[0].append(3)\n",
    "print(f'l3 = {l3}')"
   ]
  },
  {
   "cell_type": "markdown",
   "id": "7f775db6-082d-47e5-bf68-81ae554219ce",
   "metadata": {},
   "source": [
    "### List Comprehension"
   ]
  },
  {
   "cell_type": "code",
   "execution_count": 11,
   "id": "a609dc86-449a-4537-9636-9f96663e3188",
   "metadata": {},
   "outputs": [
    {
     "data": {
      "text/plain": [
       "[0, 1, 4, 9, 16, 25]"
      ]
     },
     "execution_count": 11,
     "metadata": {},
     "output_type": "execute_result"
    }
   ],
   "source": [
    "# List Comprehension\n",
    "[e**2 for e in range(6)]"
   ]
  },
  {
   "cell_type": "code",
   "execution_count": 12,
   "id": "4d306a5c-45d5-4206-8d71-613d919d4cc8",
   "metadata": {},
   "outputs": [
    {
     "data": {
      "text/plain": [
       "[0, 4, 16, 36]"
      ]
     },
     "execution_count": 12,
     "metadata": {},
     "output_type": "execute_result"
    }
   ],
   "source": [
    "[e**2 for e in range(8) if e%2 == 0]"
   ]
  },
  {
   "cell_type": "code",
   "execution_count": 13,
   "id": "85be0487-d70c-491b-b350-21080bda25e3",
   "metadata": {},
   "outputs": [
    {
     "data": {
      "text/plain": [
       "[4, 9]"
      ]
     },
     "execution_count": 13,
     "metadata": {},
     "output_type": "execute_result"
    }
   ],
   "source": [
    "[x**2 for x in [2, 'a', 3, 4.0] if type(x) == int]"
   ]
  },
  {
   "cell_type": "code",
   "execution_count": 14,
   "id": "a8865edb-19b9-4f69-a886-f611f9d431c3",
   "metadata": {},
   "outputs": [
    {
     "data": {
      "text/plain": [
       "[(0, 0), (0, 3), (2, 0), (2, 3), (4, 0), (4, 3)]"
      ]
     },
     "execution_count": 14,
     "metadata": {},
     "output_type": "execute_result"
    }
   ],
   "source": [
    "L = [(x, y)\n",
    "     for x in range(6) if x%2 == 0\n",
    "     for y in range(6) if y%3 == 0]\n",
    "L"
   ]
  },
  {
   "cell_type": "code",
   "execution_count": 15,
   "id": "521a6752-47c5-41ca-ad2e-f9ed1fbc8a57",
   "metadata": {},
   "outputs": [
    {
     "data": {
      "text/plain": [
       "[(0, 0), (0, 3), (2, 0), (2, 3), (4, 0), (4, 3)]"
      ]
     },
     "execution_count": 15,
     "metadata": {},
     "output_type": "execute_result"
    }
   ],
   "source": [
    "lst = []\n",
    "for x in range(6):\n",
    "    if x%2 == 0:\n",
    "        for y in range(6):\n",
    "            if y%3 == 0:\n",
    "                lst.append((x, y))\n",
    "lst"
   ]
  },
  {
   "cell_type": "code",
   "execution_count": 16,
   "id": "1f3b55cd-3e3a-4f13-9b3e-de5a17f14d74",
   "metadata": {},
   "outputs": [
    {
     "name": "stdout",
     "output_type": "stream",
     "text": [
      "2 3 5 7 11 13 17 19 23 29 31 37 41 43 47 53 59 61 67 71 73 79 83 89 97 "
     ]
    }
   ],
   "source": [
    "# Prime numbers\n",
    "for i in range(2, 100):\n",
    "    for j in range(2, i):\n",
    "        if i%j == 0:\n",
    "            break\n",
    "    else:\n",
    "        print(i, end=' ')"
   ]
  },
  {
   "cell_type": "code",
   "execution_count": 17,
   "id": "3483f0d9-718b-46b3-bdfe-045b9bc35af4",
   "metadata": {},
   "outputs": [
    {
     "name": "stdout",
     "output_type": "stream",
     "text": [
      "2 3 5 7 11 13 17 19 23 29 31 37 41 43 47 53 59 61 67 71 73 79 83 89 97\n"
     ]
    }
   ],
   "source": [
    "# Mistake, pg. 104, range(3, x) <-- range(2, x)\n",
    "primes = [x for x in range(2, 100) if all(x%y != 0 for y in range(2, x))]\n",
    "print(*primes)"
   ]
  },
  {
   "cell_type": "code",
   "execution_count": 18,
   "id": "fd9c75c5-91ae-47af-98e8-1d9f2a10f64a",
   "metadata": {},
   "outputs": [
    {
     "name": "stdout",
     "output_type": "stream",
     "text": [
      "4 6 8 9 10 12 14 15 16 18 20 21 22 24 25 26 27 28 30 32 33 34 35 36 38 39 40 42 44 45 46 48 49 50 51 52 54 55 56 57 58 60 62 63 64 65 66 68 69 70 72 74 75 76 77 78 80 81 82 84 85 86 87 88 90 91 92 93 94 95 96 98 99\n"
     ]
    }
   ],
   "source": [
    "# Finger exercise, pg.105\n",
    "# Write a list comprehension that generates all non-primes between 2 and 100\n",
    "non_primes = [x for x in range(2, 100) if any(x%y == 0 for y in range(2, x))]\n",
    "print(*non_primes)"
   ]
  },
  {
   "cell_type": "code",
   "execution_count": 19,
   "id": "e4100429-be05-4599-bff4-8fdc29055605",
   "metadata": {},
   "outputs": [
    {
     "name": "stdout",
     "output_type": "stream",
     "text": [
      "L = [1, -2, 3.33]\n",
      "\n",
      "Apply abs to each element of L\n",
      "L = [1, 2, 3.33]\n",
      "\n",
      "Apply int to each element of [1, 2, 3.33]\n",
      "L = [1, 2, 3]\n",
      "\n",
      "Apply squaring to each element of [1, 2, 3]\n",
      "L = [1, 4, 9]\n"
     ]
    }
   ],
   "source": [
    "# Figure 5-5\n",
    "# Applying a function to elements of a list\n",
    "\n",
    "def apply_to_each(L, f):\n",
    "    \"\"\"\n",
    "    Assumes L is a list, f a function\n",
    "    Mutates L by replacing each elemnt, e, of L by f(e)\n",
    "    \"\"\"\n",
    "    for i in range(len(L)):\n",
    "        L[i] = f(L[i])\n",
    "        \n",
    "L = [1, -2, 3.33]\n",
    "print(f'L = {L}')\n",
    "\n",
    "print('\\nApply abs to each element of L')\n",
    "apply_to_each(L, abs)\n",
    "print(f'L = {L}')\n",
    "\n",
    "print('\\nApply int to each element of', L)\n",
    "apply_to_each(L, int)\n",
    "print(f'L = {L}')\n",
    "\n",
    "print('\\nApply squaring to each element of', L)\n",
    "apply_to_each(L, lambda x: x**2)\n",
    "print(f'L = {L}')"
   ]
  },
  {
   "cell_type": "code",
   "execution_count": 20,
   "id": "ea0ff92f-a3a3-4b21-8c24-9c7596585744",
   "metadata": {},
   "outputs": [
    {
     "data": {
      "text/plain": [
       "['0', '1', '2', '3', '4', '5', '6', '7', '8', '9']"
      ]
     },
     "execution_count": 20,
     "metadata": {},
     "output_type": "execute_result"
    }
   ],
   "source": [
    "# map function\n",
    "list(map(str, range(10)))"
   ]
  },
  {
   "cell_type": "code",
   "execution_count": 21,
   "id": "272f9c37-9d4c-4016-8e78-5810e949cfa2",
   "metadata": {},
   "outputs": [
    {
     "data": {
      "text/plain": [
       "['0', '1', '2', '3', '4', '5', '6', '7', '8', '9']"
      ]
     },
     "execution_count": 21,
     "metadata": {},
     "output_type": "execute_result"
    }
   ],
   "source": [
    "[str(e) for e in range(10)]"
   ]
  },
  {
   "cell_type": "code",
   "execution_count": 22,
   "id": "b6da2107-0125-4a2f-9400-249547bb8e1b",
   "metadata": {},
   "outputs": [
    {
     "name": "stdout",
     "output_type": "stream",
     "text": [
      "4\n",
      "36\n",
      "16\n"
     ]
    }
   ],
   "source": [
    "for i in map(lambda x: x**2, [2, 6, 4]):\n",
    "    print(i)"
   ]
  },
  {
   "cell_type": "code",
   "execution_count": 23,
   "id": "7f48bfbe-71a8-4b24-9b6e-eaec5caaa72b",
   "metadata": {},
   "outputs": [
    {
     "name": "stdout",
     "output_type": "stream",
     "text": [
      "1\n",
      "28\n",
      "9\n"
     ]
    }
   ],
   "source": [
    "l1 = [1, 28, 36]\n",
    "l2 = [2, 57, 9]\n",
    "for i in map(min, l1, l2):\n",
    "    print(i)"
   ]
  },
  {
   "cell_type": "code",
   "execution_count": 24,
   "id": "ae014cfb-1ec7-48c9-b733-718a7022fb8a",
   "metadata": {},
   "outputs": [
    {
     "name": "stdout",
     "output_type": "stream",
     "text": [
      "9\n"
     ]
    }
   ],
   "source": [
    "# Finger exercise, pg.107\n",
    "# Implement a function satisfying the followin specification.\n",
    "# Hint: it will be convenient to use lambda in teh body of the implementation.\n",
    "\n",
    "def f(l1, l2):\n",
    "    \"\"\"\n",
    "    l1, l2 lists of same lenght of numbers\n",
    "    returns the sum of raining each element in l1 to the power of the element at the same index in l2\n",
    "    For example, f([1,2], [2,3]) returns 9\n",
    "    \"\"\"\n",
    "    sum_pow = [l1[x]**l2[x] for x in range(len(l1))]\n",
    "    return sum(sum_pow)\n",
    "\n",
    "print(f([1,2], [2,3]))"
   ]
  },
  {
   "cell_type": "code",
   "execution_count": 25,
   "id": "9febe16b-00dd-47e0-90de-cd0487c76457",
   "metadata": {},
   "outputs": [
    {
     "data": {
      "text/plain": [
       "9"
      ]
     },
     "execution_count": 25,
     "metadata": {},
     "output_type": "execute_result"
    }
   ],
   "source": [
    "# Solving the problem using lambda and list comprehension\n",
    "def f_lambda(l1, l2):\n",
    "    return sum(list(map(lambda x: l1[x]**l2[x], [x for x in range(len(l1))])))\n",
    "\n",
    "f_lambda([1,2], [2,3])"
   ]
  },
  {
   "cell_type": "markdown",
   "id": "8e700c9f-0663-4ebc-a1f9-928c5721bf29",
   "metadata": {},
   "source": [
    "#### Figure 5-6, pg. 107\n",
    "#### Strings, Tuples, Ranges, and Lists are four iterable types\n",
    "##### Objects of these types can be operated upon as the following:\n",
    "- `seq[i]` returns the ith element in the sequence.\n",
    "- `len(seq)` returns the lenght of the sequence.\n",
    "- `seq1 + seq2` returns the concatenations of the two sequences (not available for ranges).\n",
    "- `n*seq` returns a sequence that repeats seq n times (not available for ranges).\n",
    "- `seq[start:end]` returns a slice of the sequence.\n",
    "- `e in seq` is True if e is contained in the sequence and False otherwise.\n",
    "- `e not in seq` is True if e is not in the sequence and False otherwise.\n",
    "- `for e in seq` iterates over the elements of the sequence.\n"
   ]
  },
  {
   "cell_type": "markdown",
   "id": "833b9d4c-ab82-402e-8854-009c47966796",
   "metadata": {},
   "source": [
    "### Sets"
   ]
  },
  {
   "cell_type": "code",
   "execution_count": 26,
   "id": "021039a4-eb50-4b32-a9ce-ca6b9ece0ec1",
   "metadata": {},
   "outputs": [
    {
     "name": "stdout",
     "output_type": "stream",
     "text": [
      "{'Rockies', 'Dodgers', 'Padres', 'Giants'}\n",
      "{'Cowboys', 'Cardinals', 'Eagles', 'Giants'}\n"
     ]
    }
   ],
   "source": [
    "baseball_teams = {'Dodgers', 'Giants', 'Padres', 'Rockies'}\n",
    "football_teams = {'Giants', 'Eagles', 'Cardinals', 'Cowboys'}\n",
    "\n",
    "print(baseball_teams)\n",
    "print(football_teams)"
   ]
  },
  {
   "cell_type": "code",
   "execution_count": 27,
   "id": "0555b5d0-d90d-488f-8cac-c4fbe49a0291",
   "metadata": {},
   "outputs": [
    {
     "name": "stdout",
     "output_type": "stream",
     "text": [
      "{'Rockies', 'Dodgers', 'Yankees', 'Padres', 'Giants'}\n",
      "{'Jets', 'Eagles', 'Giants', 'Patriots', 'Cowboys', 'Cardinals'}\n"
     ]
    }
   ],
   "source": [
    "baseball_teams.add('Yankees')\n",
    "football_teams.update(['Patriots', 'Jets'])\n",
    "\n",
    "print(baseball_teams)\n",
    "print(football_teams)"
   ]
  },
  {
   "cell_type": "code",
   "execution_count": 28,
   "id": "fb2a6e76-58e3-4278-894b-0e83fe0afa78",
   "metadata": {},
   "outputs": [
    {
     "name": "stdout",
     "output_type": "stream",
     "text": [
      "{1, 2, 'Rockies', 'Dodgers', 'Yankees', 'Padres', 'Giants'}\n",
      "{'Giants'}\n",
      "{'Rockies', 'Dodgers', 'Yankees', 'Padres'}\n",
      "True\n"
     ]
    }
   ],
   "source": [
    "print(baseball_teams.union({1, 2}))\n",
    "print(baseball_teams.intersection(football_teams))\n",
    "print(baseball_teams.difference(football_teams))\n",
    "print({'Padres', 'Yankees'}.issubset(baseball_teams))"
   ]
  },
  {
   "cell_type": "code",
   "execution_count": 29,
   "id": "c5d27fb5-7e0c-47cf-87d5-cccda1a33d1a",
   "metadata": {},
   "outputs": [
    {
     "name": "stdout",
     "output_type": "stream",
     "text": [
      "{1, 2, 'Rockies', 'Dodgers', 'Yankees', 'Padres', 'Giants'}\n",
      "{'Giants'}\n",
      "{'Rockies', 'Dodgers', 'Yankees', 'Padres'}\n",
      "True\n"
     ]
    }
   ],
   "source": [
    "print(baseball_teams | {1, 2})\n",
    "print(baseball_teams & football_teams)\n",
    "print(baseball_teams - football_teams)\n",
    "print({'Padres', 'Yankees'} <= baseball_teams)"
   ]
  },
  {
   "cell_type": "markdown",
   "id": "5962806e-9774-4c8c-9bd9-85e3d7486616",
   "metadata": {},
   "source": [
    "### Dictionaries"
   ]
  },
  {
   "cell_type": "code",
   "execution_count": 30,
   "id": "54397c4e-7cec-4126-877c-61b254fd97f5",
   "metadata": {},
   "outputs": [
    {
     "name": "stdout",
     "output_type": "stream",
     "text": [
      "{'Jan': 1, 'Feb': 2, 'Mar': 3, 'Apr': 4, 'May': 5, 1: 'Jan', 2: 'Feb', 3: 'Mar', 4: 'Apr', 5: 'May'}\n",
      "The third month is Mar\n",
      "Apr and Jan are 3 months apart\n"
     ]
    }
   ],
   "source": [
    "month_numbers = {'Jan':1, 'Feb':2, 'Mar':3, 'Apr':4, 'May':5,\n",
    "                 1:'Jan', 2:'Feb', 3:'Mar', 4:'Apr', 5:'May'}\n",
    "\n",
    "print(month_numbers)\n",
    "print(f'The third month is {month_numbers[3]}')\n",
    "dist = month_numbers['Apr'] - month_numbers['Jan']\n",
    "print(f'Apr and Jan are {dist} months apart')"
   ]
  },
  {
   "cell_type": "code",
   "execution_count": 31,
   "id": "e4a6e870-a4b2-453e-8546-bd45dec03138",
   "metadata": {},
   "outputs": [
    {
     "name": "stdout",
     "output_type": "stream",
     "text": [
      "4\n",
      "Apr\n"
     ]
    }
   ],
   "source": [
    "print(month_numbers['Apr'])\n",
    "print(month_numbers[4])"
   ]
  },
  {
   "cell_type": "code",
   "execution_count": 32,
   "id": "f3ded78e-8491-4a89-b7f6-2f59ccbcc4df",
   "metadata": {},
   "outputs": [
    {
     "name": "stdout",
     "output_type": "stream",
     "text": [
      "{'Jan': 1, 'Feb': 2, 'Mar': 3, 'Apr': 4, 'May': 5, 1: 'Jan', 2: 'Feb', 3: 'Mar', 4: 'Apr', 5: 'May', 'Jun': 6}\n"
     ]
    }
   ],
   "source": [
    "month_numbers['Jun'] = 6\n",
    "print(month_numbers)"
   ]
  },
  {
   "cell_type": "code",
   "execution_count": 33,
   "id": "2e57d044-5253-42e3-ae03-aafec510670c",
   "metadata": {},
   "outputs": [
    {
     "name": "stdout",
     "output_type": "stream",
     "text": [
      "The capital of France is Paris\n",
      "The capital of Italy is Rome\n",
      "The capital of Japan is Kyoto\n"
     ]
    }
   ],
   "source": [
    "# Iterate over dictionaries\n",
    "capitals = {'France': 'Paris', 'Italy': 'Rome', 'Japan': 'Kyoto'}\n",
    "\n",
    "for key in capitals:\n",
    "    print(f'The capital of {key} is {capitals[key]}')"
   ]
  },
  {
   "cell_type": "code",
   "execution_count": 34,
   "id": "2caa5287-1a15-4000-b6ee-11a6cf2c1df7",
   "metadata": {},
   "outputs": [
    {
     "name": "stdout",
     "output_type": "stream",
     "text": [
      "['Paris', 'Rome', 'Kyoto'] is a list of capital cities\n"
     ]
    }
   ],
   "source": [
    "# Iterate over values of dictionary\n",
    "cities = []\n",
    "for val in capitals.values():\n",
    "    cities.append(val)\n",
    "print(f'{cities} is a list of capital cities')"
   ]
  },
  {
   "cell_type": "code",
   "execution_count": 35,
   "id": "74ace254-b651-46e0-931d-8d89205c9dfb",
   "metadata": {},
   "outputs": [
    {
     "name": "stdout",
     "output_type": "stream",
     "text": [
      "dict_values(['Paris', 'Rome', 'Kyoto'])\n",
      "dict_values(['Paris', 'Rome', 'Tokyo'])\n"
     ]
    }
   ],
   "source": [
    "# Mistake, pg.116, 'Toyko' <-- 'Tokyo'\n",
    "cap_vals = capitals.values()\n",
    "print(cap_vals)\n",
    "\n",
    "capitals['Japan'] = 'Tokyo'\n",
    "print(cap_vals)"
   ]
  },
  {
   "cell_type": "code",
   "execution_count": 36,
   "id": "153a8d74-c2d1-43ed-84d2-14624129fb97",
   "metadata": {},
   "outputs": [
    {
     "name": "stdout",
     "output_type": "stream",
     "text": [
      "Paris is the capital of France\n",
      "Rome is the capital of Italy\n",
      "Tokyo is the capital of Japan\n"
     ]
    }
   ],
   "source": [
    "# Iterate over keys and values in dictionary\n",
    "for key, val in capitals.items():\n",
    "    print(f'{val} is the capital of {key}')"
   ]
  },
  {
   "cell_type": "code",
   "execution_count": 37,
   "id": "445f7689-994f-47e6-9a56-f093aede465f",
   "metadata": {},
   "outputs": [
    {
     "data": {
      "text/plain": [
       "12"
      ]
     },
     "execution_count": 37,
     "metadata": {},
     "output_type": "execute_result"
    }
   ],
   "source": [
    "# Finger exercise, pg.117\n",
    "# Implement a function that meets the specification\n",
    "\n",
    "def get_min(d):\n",
    "    \"\"\"\n",
    "    d a dict mapping letters to ints\n",
    "    returns the value in d with the key that occurs first in the alphabet.\n",
    "    E.g., if d = {x = 11, b = 12}, get_min returns 12\n",
    "    \"\"\"\n",
    "    min_key = min(d.keys())\n",
    "    return d[min_key]\n",
    "\n",
    "d = {'x':11, 'b':12}\n",
    "get_min(d)"
   ]
  },
  {
   "cell_type": "markdown",
   "id": "6c8e3119-8cd4-47a1-842b-56347b1d1310",
   "metadata": {},
   "source": [
    "#### Figure 5-10, pg. 117\n",
    "#### Common operations in dicts\n",
    "- `len(d)`  returns the number of items in d.\n",
    "- `d.keys()` returns a view of the keys in d.\n",
    "- `d.values()`  returns a view of the values in d.\n",
    "- `d.items()`  returns a view of the (key, value) pairs in d.\n",
    "- `d.update(d1)` updates d with the (key, value) pairs in d1, overwriting existing keys.\n",
    "- `k in d` returns True if key k is in d.\n",
    "- `d[k]`  returns the value in d with key k.\n",
    "- `d.get(k, v)`  returns d[k] if k is in d, and v otherwise.\n",
    "- `d[k] = v` associates the value v with the key k in d. If there is alread a value associated with k, that value is replaced.\n",
    "- `del d[k]`  removes the key k from d."
   ]
  },
  {
   "cell_type": "markdown",
   "id": "c2b23150-1d6c-42f1-89ae-d143de3a57d1",
   "metadata": {},
   "source": [
    "### Dictionary Comprehension"
   ]
  },
  {
   "cell_type": "code",
   "execution_count": 38,
   "id": "5c9a9abb-809f-4f33-9ec3-e42311b7558c",
   "metadata": {},
   "outputs": [
    {
     "name": "stdout",
     "output_type": "stream",
     "text": [
      "num_to_word: {1: 'one', 2: 'two', 3: 'three', 4: 'four', 10: 'ten'}\n",
      "word_to_num: {'one': 1, 'two': 2, 'three': 3, 'four': 4, 'ten': 10}\n"
     ]
    }
   ],
   "source": [
    "num_to_word = {1: 'one', 2: 'two', 3: 'three', 4: 'four', 10: 'ten'}\n",
    "print(f'num_to_word: {num_to_word}')\n",
    "\n",
    "word_to_num = {w: d for d, w in num_to_word.items()}\n",
    "print(f'word_to_num: {word_to_num}')"
   ]
  },
  {
   "cell_type": "code",
   "execution_count": null,
   "id": "4fd9ac80-e942-406c-b9a3-1cf08f890f6d",
   "metadata": {},
   "outputs": [],
   "source": []
  },
  {
   "cell_type": "code",
   "execution_count": null,
   "id": "852a3f33-1f98-4dd8-b169-dfb9f843f3d8",
   "metadata": {},
   "outputs": [],
   "source": []
  }
 ],
 "metadata": {
  "kernelspec": {
   "display_name": "Python 3",
   "language": "python",
   "name": "python3"
  },
  "language_info": {
   "codemirror_mode": {
    "name": "ipython",
    "version": 3
   },
   "file_extension": ".py",
   "mimetype": "text/x-python",
   "name": "python",
   "nbconvert_exporter": "python",
   "pygments_lexer": "ipython3",
   "version": "3.8.8"
  }
 },
 "nbformat": 4,
 "nbformat_minor": 5
}

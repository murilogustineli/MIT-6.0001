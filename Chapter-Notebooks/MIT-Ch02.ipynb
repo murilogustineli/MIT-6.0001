{
 "cells": [
  {
   "cell_type": "markdown",
   "id": "516849cd-86a8-4173-a0b4-5ece09b6ea45",
   "metadata": {},
   "source": [
    "# MIT - 6.0001\n",
    "## Chapter 02 - Introduction to Python"
   ]
  },
  {
   "cell_type": "code",
   "execution_count": 1,
   "id": "47525acc-e7de-43c1-8810-0157fe83f110",
   "metadata": {},
   "outputs": [
    {
     "name": "stdout",
     "output_type": "stream",
     "text": [
      "2\n"
     ]
    }
   ],
   "source": [
    "# Finger Exercise - pg. 24\n",
    "# Write a program that examines three variables - x, y, and z - and prints the largest odd number among them.\n",
    "# If none of them are odd, it should print the smallest value of the three.\n",
    "\n",
    "x, y, z = 2, 4, 6\n",
    "\n",
    "if (x and y and z) % 2 == 1:\n",
    "    print(max(x, y, z))\n",
    "if (x and y) % 2 == 1 and z % 2 == 0:\n",
    "    print(max(x, y))\n",
    "if (x and z) % 2 == 1 and y % 2 == 0:\n",
    "    print(max(x, z))\n",
    "if (y and z) % 2 == 1 and x % 2 == 0:\n",
    "    print(max(y, z))\n",
    "if (x and y) % 2 == 0 and z % 2 == 1:\n",
    "    print(z)\n",
    "if (x and z) % 2 == 0 and y % 2 == 1:\n",
    "    print(y)\n",
    "if (y and z) % 2 == 0 and x % 2 == 1:\n",
    "    print(x)\n",
    "if (x and y and z) % 2 == 0:\n",
    "    print(min(x, y, z))"
   ]
  },
  {
   "cell_type": "code",
   "execution_count": 2,
   "id": "10c58bce-091f-44e4-a075-98b3a94e86df",
   "metadata": {},
   "outputs": [
    {
     "name": "stdout",
     "output_type": "stream",
     "text": [
      "3\n"
     ]
    }
   ],
   "source": [
    "# Finger Exercise - pg. 24\n",
    "# Simpler way to solve the problem\n",
    "\n",
    "x, y, z = 1, 3, 4\n",
    "answer = min(x, y, z)\n",
    "if x % 2 == 1:\n",
    "    answer = x\n",
    "if y % 2 == 1 and y > answer:\n",
    "    answer = y\n",
    "if z % 2 == 1 and z > answer:\n",
    "    answer = z\n",
    "print(answer)"
   ]
  },
  {
   "cell_type": "code",
   "execution_count": 3,
   "id": "2f9f0018-d09d-44a0-9351-be4a78fb158d",
   "metadata": {},
   "outputs": [
    {
     "name": "stdout",
     "output_type": "stream",
     "text": [
      "Enter your bday in the form mm/dd/yyyy\n",
      "You were born in the year 1994\n"
     ]
    }
   ],
   "source": [
    "# Finger Exercise - pg. 33\n",
    "# Write code that asks the user to enter their birthday in the form mm/dd/yyyy\n",
    "# and then prints a string of the form \"You were born in the year yyyy\"\n",
    "\n",
    "print('Enter your bday in the form mm/dd/yyyy')\n",
    "# user_input = input('Enter your bday in the form mm/dd/yyyy')\n",
    "user_input = '04/17/1994'\n",
    "year = user_input.split('/')[2]\n",
    "\n",
    "print(f'You were born in the year {year}')"
   ]
  },
  {
   "cell_type": "code",
   "execution_count": 93,
   "id": "8521c36a-30ab-4bae-b05d-39018c2af3ea",
   "metadata": {},
   "outputs": [
    {
     "name": "stdout",
     "output_type": "stream",
     "text": [
      "How many times should I print the letter X?\n",
      "XXXXX\n"
     ]
    }
   ],
   "source": [
    "# Finger Exercise - pg. 36\n",
    "# Replace the comment in the following code with a while loop.\n",
    "\n",
    "print('How many times should I print the letter X?')\n",
    "# num_x = int(input('How many times should I print the letter X?'))\n",
    "num_x = 5\n",
    "to_print = ''\n",
    "\n",
    "# concatenate X to to_print num_x times\n",
    "i = 0\n",
    "while i < num_x:\n",
    "    to_print += 'X'\n",
    "    i += 1\n",
    "\n",
    "print(to_print)"
   ]
  },
  {
   "cell_type": "code",
   "execution_count": 13,
   "id": "65268378-2191-4e1d-a9d2-5a67e5baab70",
   "metadata": {},
   "outputs": [
    {
     "name": "stdout",
     "output_type": "stream",
     "text": [
      "Enter 10 numbers separated by a space: \n",
      "[2, 4, 6, 8, 11, 7, 4, 2, 9, 3]\n",
      "11\n"
     ]
    }
   ],
   "source": [
    "# Finger Exercise - pg. 36 (While Loop)\n",
    "# Write a program that asks the user to input 10 integers and then prints the largest odd number that was entered.\n",
    "# If no odd number was entered, it should print a message to that effect.\n",
    "\n",
    "print('Enter 10 numbers separated by a space: ')\n",
    "user_input = [2, 4, 6, 8, 11, 7, 4, 2, 9, 3]\n",
    "print(user_input)\n",
    "output = min(user_input)\n",
    "\n",
    "i = 0\n",
    "while i < len(user_input):\n",
    "    if (user_input[i] % 2 == 1) and user_input[i] > output:\n",
    "        output = user_input[i]\n",
    "    i += 1\n",
    "    \n",
    "if output % 2 == 0:\n",
    "    print('No odd number was entered')\n",
    "else:\n",
    "    print(output)"
   ]
  },
  {
   "cell_type": "code",
   "execution_count": 14,
   "id": "c81a5f7f-0e18-4c73-bfb6-08e3f2f87001",
   "metadata": {},
   "outputs": [
    {
     "name": "stdout",
     "output_type": "stream",
     "text": [
      "Enter 10 numbers separated by a space: \n",
      "[2, 4, 6, 8, 11, 7, 4, 2, 9, 3]\n",
      "11\n"
     ]
    }
   ],
   "source": [
    "# Finger Exercise - pg. 36 (For Loop)\n",
    "# Write a program that asks the user to input 10 integers and then prints the largest odd number that was entered.\n",
    "# If no odd number was entered, it should print a message to that effect.\n",
    "\n",
    "print('Enter 10 numbers separated by a space: ')\n",
    "# user_input = list(map(int, input().split()))\n",
    "user_input = [2, 4, 6, 8, 11, 7, 4, 2, 9, 3]\n",
    "print(user_input)\n",
    "output = min(user_input)\n",
    "\n",
    "for num in user_input:\n",
    "    if num % 2 == 1 and num > output:\n",
    "        output = num\n",
    "        \n",
    "if output % 2 == 0:\n",
    "    print('No odd number was entered')\n",
    "else:\n",
    "    print(output)"
   ]
  },
  {
   "cell_type": "code",
   "execution_count": 4,
   "id": "b3be48fc-0600-4f3d-bd99-c09fa8c47064",
   "metadata": {},
   "outputs": [
    {
     "name": "stdout",
     "output_type": "stream",
     "text": [
      "Prime numbers between 2 and 1000 are:\n",
      "2 3 5 7 11 13 17 19 23 29 31 37 41 43 47 53 59 61 67 71 73 79 83 89 97 101 103 107 109 113 127 131 137 139 149 151 157 163 167 173 179 181 191 193 197 199 211 223 227 229 233 239 241 251 257 263 269 271 277 281 283 293 307 311 313 317 331 337 347 349 353 359 367 373 379 383 389 397 401 409 419 421 431 433 439 443 449 457 461 463 467 479 487 491 499 503 509 521 523 541 547 557 563 569 571 577 587 593 599 601 607 613 617 619 631 641 643 647 653 659 661 673 677 683 691 701 709 719 727 733 739 743 751 757 761 769 773 787 797 809 811 821 823 827 829 839 853 857 859 863 877 881 883 887 907 911 919 929 937 941 947 953 967 971 977 983 991 997 "
     ]
    }
   ],
   "source": [
    "# Finger Exercise - pg. 40\n",
    "# Write a program that prints the sum of the prime numbers greater than 2 and less than 1000\n",
    "print(\"Prime numbers between\", 2, \"and\", 1000, \"are:\")\n",
    "\n",
    "for num in range(2, 1000):\n",
    "    for i in range(2, num):\n",
    "        if (num % i) == 0:\n",
    "            break\n",
    "    else:\n",
    "        print(num, end=' ')"
   ]
  },
  {
   "cell_type": "code",
   "execution_count": 6,
   "id": "3b6c75fe-d7de-420e-9eaa-f1de66a3e456",
   "metadata": {},
   "outputs": [
    {
     "name": "stdout",
     "output_type": "stream",
     "text": [
      "8\n",
      "1.0\n"
     ]
    }
   ],
   "source": [
    "import numpy as np\n",
    "\n",
    "# x = int(input())\n",
    "# y = int(input())\n",
    "\n",
    "x, y = 2, 3\n",
    "print(x**y)\n",
    "print(np.log2(x))"
   ]
  },
  {
   "cell_type": "code",
   "execution_count": 7,
   "id": "46e92829-0dea-479e-bfa5-8dbe7455702b",
   "metadata": {},
   "outputs": [
    {
     "name": "stdin",
     "output_type": "stream",
     "text": [
      "enter left or right: right\n"
     ]
    },
    {
     "name": "stdout",
     "output_type": "stream",
     "text": [
      "*************\n",
      "*************\n",
      "     :(      \n",
      "*************\n",
      "*************\n",
      "\n"
     ]
    },
    {
     "name": "stdin",
     "output_type": "stream",
     "text": [
      "enter left or right: right\n"
     ]
    },
    {
     "name": "stdout",
     "output_type": "stream",
     "text": [
      "*************\n",
      "*************\n",
      "     :(      \n",
      "*************\n",
      "*************\n",
      "\n"
     ]
    },
    {
     "name": "stdin",
     "output_type": "stream",
     "text": [
      "enter left or right: right\n"
     ]
    },
    {
     "name": "stdout",
     "output_type": "stream",
     "text": [
      "**************\n",
      "*****      ***\n",
      "(╯°□°）╯︵ ┻━┻)\n",
      "**************\n",
      "**************\n",
      "\n"
     ]
    },
    {
     "name": "stdin",
     "output_type": "stream",
     "text": [
      "enter left or right: right\n"
     ]
    },
    {
     "name": "stdout",
     "output_type": "stream",
     "text": [
      "**************\n",
      "*****      ***\n",
      "(╯°□°）╯︵ ┻━┻)\n",
      "**************\n",
      "**************\n",
      "\n"
     ]
    },
    {
     "name": "stdin",
     "output_type": "stream",
     "text": [
      "enter left or right: left\n"
     ]
    },
    {
     "name": "stdout",
     "output_type": "stream",
     "text": [
      "you left the woods!! :)\n"
     ]
    }
   ],
   "source": [
    "woods = ('*************\\n'\n",
    "         '*************\\n'\n",
    "         '     :(      \\n'\n",
    "         '*************\\n'\n",
    "         '*************\\n')\n",
    "\n",
    "mad_woods = ('**************\\n'\n",
    "             '*****      ***\\n'\n",
    "             '(╯°□°）╯︵ ┻━┻)\\n'\n",
    "             '**************\\n'\n",
    "             '**************\\n')\n",
    "\n",
    "i = 0\n",
    "while True:\n",
    "    user_input = input('enter left or right:')\n",
    "    if user_input == 'right' and i < 2:\n",
    "        print(woods)\n",
    "        i += 1\n",
    "    elif user_input == 'right' and i >= 2:\n",
    "        print(mad_woods)\n",
    "    elif user_input == 'left':\n",
    "        print('you left the woods!! :)')\n",
    "        break"
   ]
  },
  {
   "cell_type": "markdown",
   "id": "8a77a243-39cb-4a9b-871f-0f082c8b8302",
   "metadata": {},
   "source": [
    "## Other problems I solved (not in the book or lectures)"
   ]
  },
  {
   "cell_type": "code",
   "execution_count": 6,
   "id": "5ffe7e2b-5f51-4814-b620-443624245382",
   "metadata": {},
   "outputs": [],
   "source": [
    "# Given an integer array nums, find the contiguous subarray (containing at least one number) which has the largest sum and return its sum.\n",
    "# A subarray is a contiguous part of an array.\n",
    "\n",
    "def max_subarray(array):\n",
    "    for i in range(1, len(array)):\n",
    "        array[i] = max(array[i], array[i-1] + array[i])\n",
    "    return max(array)"
   ]
  },
  {
   "cell_type": "code",
   "execution_count": 7,
   "id": "dd0d5734-091f-40cc-838b-49687db52953",
   "metadata": {},
   "outputs": [
    {
     "data": {
      "text/plain": [
       "6"
      ]
     },
     "execution_count": 7,
     "metadata": {},
     "output_type": "execute_result"
    }
   ],
   "source": [
    "array = [-2, 1, -3, 4, -1, 2, 1, -5, 4]\n",
    "max_subarray(array)"
   ]
  },
  {
   "cell_type": "code",
   "execution_count": 8,
   "id": "5e855bbe-65a5-43d4-b91c-b6eb32c67ec4",
   "metadata": {},
   "outputs": [
    {
     "name": "stdout",
     "output_type": "stream",
     "text": [
      "3\n"
     ]
    }
   ],
   "source": [
    "# Leet Code -> #3. Longest Substring\n",
    "# Given a string s, find the length of the longest substring without repeating characters.\n",
    "\n",
    "s = 'abcabcbb'\n",
    "\n",
    "strSet = set()\n",
    "start = output = 0\n",
    "\n",
    "for index in range(len(s)):\n",
    "    while s[index] in strSet:\n",
    "        strSet.remove(s[start])\n",
    "        start += 1\n",
    "    strSet.add(s[index])\n",
    "    output = max(output, index - start + 1)\n",
    "    \n",
    "print(output)"
   ]
  },
  {
   "cell_type": "code",
   "execution_count": 89,
   "id": "6bd17703-08f9-4ec2-957c-ba0d0c419fb0",
   "metadata": {},
   "outputs": [
    {
     "name": "stdout",
     "output_type": "stream",
     "text": [
      "restaurant2\n"
     ]
    }
   ],
   "source": [
    "import random\n",
    "\n",
    "def random_restaurant(restaurant_list):\n",
    "    output = random.choice(restaurant_list)\n",
    "    return output\n",
    "\n",
    "\n",
    "def main():\n",
    "    restaurant_list = [\n",
    "        'restaurant1',\n",
    "        'restaurant2',\n",
    "        'restaurant3',\n",
    "        'restaurant4'\n",
    "    ]\n",
    "    \n",
    "    print(random_restaurant(restaurant_list))    \n",
    "\n",
    "\n",
    "if __name__ == '__main__':\n",
    "    main()"
   ]
  },
  {
   "cell_type": "code",
   "execution_count": null,
   "id": "5881bf36-d43d-43e3-84a1-a96d05031c6f",
   "metadata": {},
   "outputs": [],
   "source": []
  },
  {
   "cell_type": "code",
   "execution_count": null,
   "id": "1afdd43a-74a7-45b0-9579-d1c9b1e25b9e",
   "metadata": {},
   "outputs": [],
   "source": []
  }
 ],
 "metadata": {
  "kernelspec": {
   "display_name": "Python 3",
   "language": "python",
   "name": "python3"
  },
  "language_info": {
   "codemirror_mode": {
    "name": "ipython",
    "version": 3
   },
   "file_extension": ".py",
   "mimetype": "text/x-python",
   "name": "python",
   "nbconvert_exporter": "python",
   "pygments_lexer": "ipython3",
   "version": "3.8.8"
  }
 },
 "nbformat": 4,
 "nbformat_minor": 5
}
